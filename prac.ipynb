{
 "cells": [
  {
   "cell_type": "code",
   "execution_count": 1,
   "metadata": {},
   "outputs": [],
   "source": [
    "import os\n",
    "from dotenv import load_dotenv\n",
    "load_dotenv()\n",
    "GOOGLE_API_KEY=os.getenv(\"GOOGLE_API_KEY\")\n",
    "TAVILY_API_KEY=os.getenv(\"TAVILY_API_KEY\")\n",
    "GROQ_API_KEY=os.getenv(\"GROQ_API_KEY\")\n",
    "LANGCHAIN_API_KEY=os.getenv(\"LANGCHAIN_API_KEY\")\n",
    "os.environ[\"GOOGLE_API_KEY\"] = GOOGLE_API_KEY\n",
    "os.environ[\"TAVILY_API_KEY\"] = TAVILY_API_KEY\n",
    "os.environ[\"GROQ_API_KEY\"]= GROQ_API_KEY\n",
    "os.environ[\"LANGCHAIN_API_KEY\"] = LANGCHAIN_API_KEY\n",
    "os.environ[\"LANGCHAIN_TRACING_V2\"] = \"true\"\n",
    "os.environ[\"LANGCHAIN_ENDPOINT\"] = \"https://api.smith.langchain.com\""
   ]
  },
  {
   "cell_type": "code",
   "execution_count": 20,
   "metadata": {},
   "outputs": [],
   "source": [
    "from langchain_google_genai import GoogleGenerativeAIEmbeddings\n",
    "embeddings = GoogleGenerativeAIEmbeddings(model= \"models/embedding-001\")\n",
    "from langchain_google_genai import ChatGoogleGenerativeAI\n",
    "llm = ChatGoogleGenerativeAI(model= \"gemini-1.0-pro\")"
   ]
  },
  {
   "cell_type": "code",
   "execution_count": 3,
   "metadata": {},
   "outputs": [],
   "source": [
    "# from langchain_huggingface import HuggingFaceEmbeddings\n",
    "# embeddings = HuggingFaceEmbeddings(model_name= \"all-MiniLM-L6-v2\")\n",
    "# from langchain_groq import ChatGroq\n",
    "# llm = ChatGroq(model_name= \"Gemma2-9b-It\")"
   ]
  },
  {
   "cell_type": "markdown",
   "metadata": {},
   "source": [
    "# Simple AI Assistant"
   ]
  },
  {
   "cell_type": "code",
   "execution_count": 4,
   "metadata": {},
   "outputs": [
    {
     "name": "stdout",
     "output_type": "stream",
     "text": [
      "Good Bye Take Care\n"
     ]
    }
   ],
   "source": [
    "while True:\n",
    "    question = input(\"Type your question. If you want to quit the chat write quit.\")\n",
    "    if question != \"quit\":\n",
    "        print(llm.invoke(question).content)\n",
    "    else:\n",
    "        print(\"Good Bye Take Care\")\n",
    "        break"
   ]
  },
  {
   "cell_type": "code",
   "execution_count": 5,
   "metadata": {},
   "outputs": [],
   "source": [
    "from langchain_core.chat_history import BaseChatMessageHistory\n",
    "from langchain_core.chat_history import InMemoryChatMessageHistory\n",
    "from langchain_core.runnables.history import RunnableWithMessageHistory\n",
    "from langchain_core.messages import AIMessage"
   ]
  },
  {
   "cell_type": "code",
   "execution_count": 6,
   "metadata": {},
   "outputs": [],
   "source": [
    "store = {} "
   ]
  },
  {
   "cell_type": "code",
   "execution_count": 7,
   "metadata": {},
   "outputs": [],
   "source": [
    "def get_session_histroy(session_id: str) -> BaseChatMessageHistory:\n",
    "    if session_id not in store:\n",
    "        store[session_id] = InMemoryChatMessageHistory()\n",
    "    return store[session_id]"
   ]
  },
  {
   "cell_type": "code",
   "execution_count": 8,
   "metadata": {},
   "outputs": [],
   "source": [
    "config = {\"configurable\": {\"session_id\": \"FirstChat\"}}"
   ]
  },
  {
   "cell_type": "code",
   "execution_count": 9,
   "metadata": {},
   "outputs": [],
   "source": [
    "model_with_memmory = RunnableWithMessageHistory(llm, get_session_histroy)"
   ]
  },
  {
   "cell_type": "code",
   "execution_count": 10,
   "metadata": {},
   "outputs": [
    {
     "data": {
      "text/plain": [
       "'Hello Dhruv Saxena! How can I assist you today?'"
      ]
     },
     "execution_count": 10,
     "metadata": {},
     "output_type": "execute_result"
    }
   ],
   "source": [
    "model_with_memmory.invoke((\"Hi, my name is Dhruv Saxena\"), config= config).content"
   ]
  },
  {
   "cell_type": "code",
   "execution_count": 11,
   "metadata": {},
   "outputs": [
    {
     "data": {
      "text/plain": [
       "'Your name is Dhruv Saxena.'"
      ]
     },
     "execution_count": 11,
     "metadata": {},
     "output_type": "execute_result"
    }
   ],
   "source": [
    "model_with_memmory.invoke((\"tell me my name?\"), config= config).content"
   ]
  },
  {
   "cell_type": "code",
   "execution_count": 12,
   "metadata": {},
   "outputs": [
    {
     "data": {
      "text/plain": [
       "{'FirstChat': InMemoryChatMessageHistory(messages=[HumanMessage(content='Hi, my name is Dhruv Saxena', additional_kwargs={}, response_metadata={}), AIMessage(content='Hello Dhruv Saxena! How can I assist you today?', additional_kwargs={}, response_metadata={'prompt_feedback': {'block_reason': 0, 'safety_ratings': []}, 'finish_reason': 'STOP', 'safety_ratings': [{'category': 'HARM_CATEGORY_SEXUALLY_EXPLICIT', 'probability': 'NEGLIGIBLE', 'blocked': False}, {'category': 'HARM_CATEGORY_HATE_SPEECH', 'probability': 'NEGLIGIBLE', 'blocked': False}, {'category': 'HARM_CATEGORY_HARASSMENT', 'probability': 'NEGLIGIBLE', 'blocked': False}, {'category': 'HARM_CATEGORY_DANGEROUS_CONTENT', 'probability': 'NEGLIGIBLE', 'blocked': False}]}, id='run-8afb7a87-9eba-4dbe-94d1-f461f826298c-0', usage_metadata={'input_tokens': 11, 'output_tokens': 14, 'total_tokens': 25}), HumanMessage(content='tell me my name?', additional_kwargs={}, response_metadata={}), AIMessage(content='Your name is Dhruv Saxena.', additional_kwargs={}, response_metadata={'prompt_feedback': {'block_reason': 0, 'safety_ratings': []}, 'finish_reason': 'STOP', 'safety_ratings': [{'category': 'HARM_CATEGORY_SEXUALLY_EXPLICIT', 'probability': 'NEGLIGIBLE', 'blocked': False}, {'category': 'HARM_CATEGORY_HATE_SPEECH', 'probability': 'NEGLIGIBLE', 'blocked': False}, {'category': 'HARM_CATEGORY_HARASSMENT', 'probability': 'NEGLIGIBLE', 'blocked': False}, {'category': 'HARM_CATEGORY_DANGEROUS_CONTENT', 'probability': 'NEGLIGIBLE', 'blocked': False}]}, id='run-7b1eae7f-1346-43b2-956d-30be1fef5fe3-0', usage_metadata={'input_tokens': 32, 'output_tokens': 9, 'total_tokens': 41})])}"
      ]
     },
     "execution_count": 12,
     "metadata": {},
     "output_type": "execute_result"
    }
   ],
   "source": [
    "store"
   ]
  },
  {
   "cell_type": "markdown",
   "metadata": {},
   "source": [
    "## RAG With LCEL"
   ]
  },
  {
   "cell_type": "code",
   "execution_count": 13,
   "metadata": {},
   "outputs": [],
   "source": [
    "from langchain_community.document_loaders import TextLoader, DirectoryLoader\n",
    "from langchain.text_splitter import RecursiveCharacterTextSplitter\n",
    "from langchain_community.vectorstores import Chroma\n",
    "from langchain import PromptTemplate\n",
    "from langchain_core.runnables import RunnableParallel, RunnablePassthrough, RunnableLambda\n",
    "from langchain_core.output_parsers import StrOutputParser"
   ]
  },
  {
   "cell_type": "code",
   "execution_count": 16,
   "metadata": {},
   "outputs": [],
   "source": [
    "### Reading the txt files from source directory\n",
    "\n",
    "loader = DirectoryLoader(\"data\", glob= \"./*.txt\", loader_cls= TextLoader)\n",
    "docs = loader.load()\n",
    "\n",
    "## Creating Chunks unsing RecursiveCharacterTextSplitter\n",
    "\n",
    "text_splitter = RecursiveCharacterTextSplitter(\n",
    "    chunk_size = 150,\n",
    "    chunk_overlap= 10,\n",
    "    length_function= len \n",
    ") \n",
    "\n",
    "new_docs = text_splitter.split_documents(documents= docs)\n",
    "doc_strings = [doc.page_content for doc in new_docs]\n"
   ]
  },
  {
   "cell_type": "code",
   "execution_count": 17,
   "metadata": {},
   "outputs": [
    {
     "data": {
      "text/plain": [
       "[Document(metadata={'source': 'data\\\\llama3.txt'}, page_content='Modern artificial intelligence (AI) systems are powered by foundation models. This paper presents a'),\n",
       " Document(metadata={'source': 'data\\\\llama3.txt'}, page_content='new set of foundation models, called Llama 3. It is a herd of language models that natively support'),\n",
       " Document(metadata={'source': 'data\\\\llama3.txt'}, page_content='multilinguality, coding, reasoning, and tool usage. Our largest model is a dense Transformer with'),\n",
       " Document(metadata={'source': 'data\\\\llama3.txt'}, page_content='405B parameters and a context window of up to 128K tokens. This paper presents an extensive'),\n",
       " Document(metadata={'source': 'data\\\\llama3.txt'}, page_content='empirical evaluation of Llama 3. We find that Llama 3 delivers comparable quality to leading language'),\n",
       " Document(metadata={'source': 'data\\\\llama3.txt'}, page_content='models such as GPT-4 on a plethora of tasks. We publicly release Llama 3, including pre-trained and'),\n",
       " Document(metadata={'source': 'data\\\\llama3.txt'}, page_content='post-trained versions of the 405B parameter language model and our Llama Guard 3 model for input'),\n",
       " Document(metadata={'source': 'data\\\\llama3.txt'}, page_content='and output safety. The paper also presents the results of experiments in which we integrate image,'),\n",
       " Document(metadata={'source': 'data\\\\llama3.txt'}, page_content='video, and speech capabilities into Llama 3 via a compositional approach. We observe this approach'),\n",
       " Document(metadata={'source': 'data\\\\llama3.txt'}, page_content='performs competitively with the state-of-the-art on image, video, and speech recognition tasks. The'),\n",
       " Document(metadata={'source': 'data\\\\llama3.txt'}, page_content='resulting models are not yet being broadly released as they are still under development.\\n1 Introduction'),\n",
       " Document(metadata={'source': 'data\\\\llama3.txt'}, page_content='Foundation models are general models of language, vision, speech, and/or other modalities that are designed'),\n",
       " Document(metadata={'source': 'data\\\\llama3.txt'}, page_content='to support a large variety of AI tasks. They form the basis of many modern AI systems.'),\n",
       " Document(metadata={'source': 'data\\\\llama3.txt'}, page_content='The development of modern foundation models consists of two main stages: (1) a pre-training stage in which'),\n",
       " Document(metadata={'source': 'data\\\\llama3.txt'}, page_content='the model is trained at massive scale using straightforward tasks such as next-word prediction or captioning'),\n",
       " Document(metadata={'source': 'data\\\\llama3.txt'}, page_content='and (2) a post-training stage in which the model is tuned to follow instructions, align with human preferences,'),\n",
       " Document(metadata={'source': 'data\\\\llama3.txt'}, page_content='and improve specific capabilities (for example, coding and reasoning).'),\n",
       " Document(metadata={'source': 'data\\\\llama3.txt'}, page_content='In this paper, we present a new set of foundation models for language, called Llama 3. The Llama 3 Herd'),\n",
       " Document(metadata={'source': 'data\\\\llama3.txt'}, page_content='of models natively supports multilinguality, coding, reasoning, and tool usage. Our largest model is dense'),\n",
       " Document(metadata={'source': 'data\\\\llama3.txt'}, page_content='Transformer with 405B parameters, processing information in a context window of up to 128K tokens. Each'),\n",
       " Document(metadata={'source': 'data\\\\llama3.txt'}, page_content='member of the herd is listed in Table 1. All the results presented in this paper are for the Llama 3.1 models,'),\n",
       " Document(metadata={'source': 'data\\\\llama3.txt'}, page_content='which we will refer to as Llama 3 throughout for brevity.'),\n",
       " Document(metadata={'source': 'data\\\\llama3.txt'}, page_content='We believe there are three key levers in the development of high-quality foundation models: data, scale, and'),\n",
       " Document(metadata={'source': 'data\\\\llama3.txt'}, page_content='managing complexity. We seek to optimize for these three levers in our development process:'),\n",
       " Document(metadata={'source': 'data\\\\llama3.txt'}, page_content='• Data. Compared to prior versions of Llama (Touvron et al., 2023a,b), we improved both the quantity and'),\n",
       " Document(metadata={'source': 'data\\\\llama3.txt'}, page_content='quality of the data we use for pre-training and post-training. These improvements include the development'),\n",
       " Document(metadata={'source': 'data\\\\llama3.txt'}, page_content='of more careful pre-processing and curation pipelines for pre-training data and the development of more'),\n",
       " Document(metadata={'source': 'data\\\\llama3.txt'}, page_content='rigorous quality assurance and filtering approaches for post-training data. We pre-train Llama 3 on a'),\n",
       " Document(metadata={'source': 'data\\\\llama3.txt'}, page_content='corpus of about 15T multilingual tokens, compared to 1.8T tokens for Llama 2.'),\n",
       " Document(metadata={'source': 'data\\\\llama3.txt'}, page_content='• Scale. We train a model at far larger scale than previous Llama models: our flagship language model was'),\n",
       " Document(metadata={'source': 'data\\\\llama3.txt'}, page_content='pre-trained using 3.8 × 1025 FLOPs, almost 50× more than the largest version of Llama 2. Specifically,'),\n",
       " Document(metadata={'source': 'data\\\\llama3.txt'}, page_content='we pre-trained a flagship model with 405B trainable parameters on 15.6T text tokens. As expected per scaling laws for foundation models, our flagship'),\n",
       " Document(metadata={'source': 'data\\\\llama3.txt'}, page_content='flagship model outperforms smaller models trained using the'),\n",
       " Document(metadata={'source': 'data\\\\llama3.txt'}, page_content='same procedure. While our scaling laws suggest our flagship model is an approximately compute-optimal'),\n",
       " Document(metadata={'source': 'data\\\\llama3.txt'}, page_content='size for our training budget, we also train our smaller models for much longer than is compute-optimal.'),\n",
       " Document(metadata={'source': 'data\\\\llama3.txt'}, page_content='The resulting models perform better than compute-optimal models at the same inference budget. We'),\n",
       " Document(metadata={'source': 'data\\\\llama3.txt'}, page_content='use the flagship model to further improve the quality of those smaller models during post-training.'),\n",
       " Document(metadata={'source': 'data\\\\llama3.txt'}, page_content='• Managing complexity. We make design choices that seek to maximize our ability to scale the model'),\n",
       " Document(metadata={'source': 'data\\\\llama3.txt'}, page_content='development process. For example, we opt for a standard dense Transformer model architecture (Vaswani'),\n",
       " Document(metadata={'source': 'data\\\\llama3.txt'}, page_content='et al., 2017) with minor adaptations, rather than for a mixture-of-experts model (Shazeer et al., 2017)'),\n",
       " Document(metadata={'source': 'data\\\\llama3.txt'}, page_content='to maximize training stability. Similarly, we adopt a relatively simple post-training procedure based'),\n",
       " Document(metadata={'source': 'data\\\\llama3.txt'}, page_content='on supervised finetuning (SFT), rejection sampling (RS), and direct preference optimization (DPO;'),\n",
       " Document(metadata={'source': 'data\\\\llama3.txt'}, page_content='Rafailov et al. (2023)) as opposed to more complex reinforcement learning algorithms (Ouyang et al.,'),\n",
       " Document(metadata={'source': 'data\\\\llama3.txt'}, page_content='2022; Schulman et al., 2017) that tend to be less stable and harder to scale.\\nThe result of our work is Llama 3: a herd of three multilingual1'),\n",
       " Document(metadata={'source': 'data\\\\llama3.txt'}, page_content='language models with 8B, 70B, and 405B\\nparameters. We evaluate the performance of Llama 3 on a plethora of benchmark datasets that span a wide'),\n",
       " Document(metadata={'source': 'data\\\\llama3.txt'}, page_content='range of language understanding tasks. In addition, we perform extensive human evaluations that compare'),\n",
       " Document(metadata={'source': 'data\\\\llama3.txt'}, page_content='Llama 3 with competing models. An overview of the performance of the flagship Llama 3 model on key'),\n",
       " Document(metadata={'source': 'data\\\\llama3.txt'}, page_content='benchmarks is presented in Table 2. Our experimental evaluation suggests that our flagship model performs'),\n",
       " Document(metadata={'source': 'data\\\\llama3.txt'}, page_content='on par with leading language models such as GPT-4 (OpenAI, 2023a) across a variety of tasks, and is close to'),\n",
       " Document(metadata={'source': 'data\\\\llama3.txt'}, page_content='matching the state-of-the-art. Our smaller models are best-in-class, outperforming alternative models with'),\n",
       " Document(metadata={'source': 'data\\\\llama3.txt'}, page_content='similar numbers of parameters (Bai et al., 2023; Jiang et al., 2023). Llama 3 also delivers a much better'),\n",
       " Document(metadata={'source': 'data\\\\llama3.txt'}, page_content='balance between helpfulness and harmlessness than its predecessor (Touvron et al., 2023b). We present a'),\n",
       " Document(metadata={'source': 'data\\\\llama3.txt'}, page_content='detailed analysis of the safety of Llama 3 in Section 5.4.'),\n",
       " Document(metadata={'source': 'data\\\\llama3.txt'}, page_content='We are publicly releasing all three Llama 3 models under an updated version of the Llama 3 Community License;'),\n",
       " Document(metadata={'source': 'data\\\\llama3.txt'}, page_content='see https://llama.meta.com. This includes pre-trained and post-trained versions of our 405B parameter'),\n",
       " Document(metadata={'source': 'data\\\\llama3.txt'}, page_content='language model and a new version of our Llama Guard model (Inan et al., 2023) for input and output safety.'),\n",
       " Document(metadata={'source': 'data\\\\llama3.txt'}, page_content='We hope that the open release of a flagship model will spur a wave of innovation in the research community,'),\n",
       " Document(metadata={'source': 'data\\\\llama3.txt'}, page_content='and accelerate a responsible path towards the development of artificial general intelligence (AGI).'),\n",
       " Document(metadata={'source': 'data\\\\llama3.txt'}, page_content='As part of the Llama 3 development process we also develop multimodal extensions to the models, enabling'),\n",
       " Document(metadata={'source': 'data\\\\llama3.txt'}, page_content='image recognition, video recognition, and speech understanding capabilities. These models are still under'),\n",
       " Document(metadata={'source': 'data\\\\llama3.txt'}, page_content='active development and not yet ready for release. In addition to our language modeling results, the paper'),\n",
       " Document(metadata={'source': 'data\\\\llama3.txt'}, page_content='presents results of our initial experiments with those multimodal models.')]"
      ]
     },
     "execution_count": 17,
     "metadata": {},
     "output_type": "execute_result"
    }
   ],
   "source": [
    "new_docs"
   ]
  },
  {
   "cell_type": "code",
   "execution_count": 19,
   "metadata": {},
   "outputs": [],
   "source": [
    "### BGE Embeddings\n",
    "\n",
    "# from langchain.embeddings import HuggingFaceBgeEmbeddings\n",
    "\n",
    "# model_name = \"BAAI/bge-base-en-v1.5\"\n",
    "# model_kwargs = {\"device\": \"cpu\"}\n",
    "# encode_kwargs = {\"normalize_embeddings\": True}\n",
    "# embeddings = HuggingFaceBgeEmbeddings(\n",
    "#     model_name= model_name,\n",
    "#     model_kwargs= model_kwargs,\n",
    "#     encode_kwargs= encode_kwargs\n",
    "# )"
   ]
  },
  {
   "cell_type": "code",
   "execution_count": 21,
   "metadata": {},
   "outputs": [],
   "source": [
    "### Creating Retriever using Vector DB\n",
    "\n",
    "db = Chroma.from_documents(new_docs, embeddings)\n",
    "retriever = db.as_retriever(search_kwargs={\"k\": 3})"
   ]
  },
  {
   "cell_type": "code",
   "execution_count": 22,
   "metadata": {},
   "outputs": [],
   "source": [
    "template = \"\"\"Answer the question based on the following context:\n",
    "{context}\n",
    "\n",
    "Question: {question}\n",
    "\n",
    "Answer: \n",
    "\"\"\"\n",
    "\n",
    "prompt = PromptTemplate.from_template(template)"
   ]
  },
  {
   "cell_type": "code",
   "execution_count": 23,
   "metadata": {},
   "outputs": [],
   "source": [
    "retrieval_chain = (\n",
    "    RunnableParallel({\"context\": retriever, \"question\": RunnablePassthrough()})\n",
    "    | prompt\n",
    "    | llm\n",
    "    | StrOutputParser()\n",
    ")"
   ]
  },
  {
   "cell_type": "code",
   "execution_count": 24,
   "metadata": {},
   "outputs": [
    {
     "name": "stdout",
     "output_type": "stream",
     "text": [
      "1. Llama 3 is a multimodal model.\n",
      "2. Llama 3 is safe, as detailed in Section 5.4.\n",
      "3. Llama 3 has extensions that enable it to perform a variety of tasks.\n"
     ]
    }
   ],
   "source": [
    "question = \"Waht is llama3? Can you highlight 3 important points?\"\n",
    "print(retrieval_chain.invoke(question))"
   ]
  },
  {
   "cell_type": "markdown",
   "metadata": {},
   "source": [
    "# Let's Start with Tools and Agents"
   ]
  },
  {
   "cell_type": "code",
   "execution_count": 26,
   "metadata": {},
   "outputs": [],
   "source": [
    "from langchain_community.tools import WikipediaQueryRun\n",
    "from langchain_community.utilities import WikipediaAPIWrapper"
   ]
  },
  {
   "cell_type": "code",
   "execution_count": 28,
   "metadata": {},
   "outputs": [],
   "source": [
    "api_wrapper = WikipediaAPIWrapper()"
   ]
  },
  {
   "cell_type": "code",
   "execution_count": 29,
   "metadata": {},
   "outputs": [],
   "source": [
    "tool= WikipediaQueryRun(api_wrapper= api_wrapper)"
   ]
  },
  {
   "cell_type": "code",
   "execution_count": 30,
   "metadata": {},
   "outputs": [
    {
     "data": {
      "text/plain": [
       "'wikipedia'"
      ]
     },
     "execution_count": 30,
     "metadata": {},
     "output_type": "execute_result"
    }
   ],
   "source": [
    "tool.name"
   ]
  },
  {
   "cell_type": "code",
   "execution_count": 31,
   "metadata": {},
   "outputs": [
    {
     "data": {
      "text/plain": [
       "'A wrapper around Wikipedia. Useful for when you need to answer general questions about people, places, companies, facts, historical events, or other subjects. Input should be a search query.'"
      ]
     },
     "execution_count": 31,
     "metadata": {},
     "output_type": "execute_result"
    }
   ],
   "source": [
    "tool.description"
   ]
  },
  {
   "cell_type": "code",
   "execution_count": 32,
   "metadata": {},
   "outputs": [
    {
     "name": "stdout",
     "output_type": "stream",
     "text": [
      "Page: LangChain\n",
      "Summary: LangChain is a software framework that helps facilitate the integration of large language models (LLMs) into applications. As a language model integration framework, LangChain's use-cases largely overlap with those of language models in general, including document analysis and summarization, chatbots, and code analysis.\n",
      "\n",
      "\n",
      "\n",
      "Page: Retrieval-augmented generation\n",
      "Summary: Retrieval augmented generation (RAG) is a type of generative artificial intelligence that has information retrieval capabilities. It modifies interactions with a large language model (LLM) so that the model responds to user queries with reference to a specified set of documents, using this information in preference to information drawn from its own vast, static training data. This allows LLMs to use domain-specific and/or updated information.  \n",
      "Use cases include providing chatbot access to internal company data, or giving factual information only from an authoritative source.\n",
      "\n",
      "\n",
      "\n",
      "Page: DataStax\n",
      "Summary: DataStax, Inc. is a real-time data for AI company based in Santa Clara, California. Its product Astra DB is a cloud database-as-a-service based on Apache Cassandra. DataStax also offers DataStax Enterprise (DSE), an on-premises database built on Apache Cassandra, and Astra Streaming, a messaging and event streaming cloud service based on Apache Pulsar. As of June 2022, the company has roughly 800 customers distributed in over 50 countries.\n",
      "\n",
      "\n"
     ]
    }
   ],
   "source": [
    "print(tool.run({\"query\": \"langchain\"}))"
   ]
  },
  {
   "cell_type": "code",
   "execution_count": 33,
   "metadata": {},
   "outputs": [],
   "source": [
    "from langchain_community.tools import YouTubeSearchTool"
   ]
  },
  {
   "cell_type": "code",
   "execution_count": 34,
   "metadata": {},
   "outputs": [],
   "source": [
    "YTtool= YouTubeSearchTool()"
   ]
  },
  {
   "cell_type": "code",
   "execution_count": 35,
   "metadata": {},
   "outputs": [
    {
     "data": {
      "text/plain": [
       "'youtube_search'"
      ]
     },
     "execution_count": 35,
     "metadata": {},
     "output_type": "execute_result"
    }
   ],
   "source": [
    "YTtool.name"
   ]
  },
  {
   "cell_type": "code",
   "execution_count": 36,
   "metadata": {},
   "outputs": [
    {
     "data": {
      "text/plain": [
       "'search for youtube videos associated with a person. the input to this tool should be a comma separated list, the first part contains a person name and the second a number that is the maximum number of video results to return aka num_results. the second part is optional'"
      ]
     },
     "execution_count": 36,
     "metadata": {},
     "output_type": "execute_result"
    }
   ],
   "source": [
    "YTtool.description"
   ]
  },
  {
   "cell_type": "code",
   "execution_count": 40,
   "metadata": {},
   "outputs": [
    {
     "data": {
      "text/plain": [
       "\"['https://www.youtube.com/watch?v=8aUYzb1aYDU&pp=ygUMc3Vubnkgc2F2aXRh', 'https://www.youtube.com/watch?v=ABK00e2XdPo&pp=ygUMc3Vubnkgc2F2aXRh']\""
      ]
     },
     "execution_count": 40,
     "metadata": {},
     "output_type": "execute_result"
    }
   ],
   "source": [
    "YTtool.run(\"sunny savita\") "
   ]
  },
  {
   "cell_type": "code",
   "execution_count": 41,
   "metadata": {},
   "outputs": [],
   "source": [
    "from langchain_community.tools.tavily_search import TavilySearchResults"
   ]
  },
  {
   "cell_type": "code",
   "execution_count": 42,
   "metadata": {},
   "outputs": [],
   "source": [
    "tool = TavilySearchResults()"
   ]
  },
  {
   "cell_type": "code",
   "execution_count": 43,
   "metadata": {},
   "outputs": [
    {
     "data": {
      "text/plain": [
       "'tavily_search_results_json'"
      ]
     },
     "execution_count": 43,
     "metadata": {},
     "output_type": "execute_result"
    }
   ],
   "source": [
    "tool.name"
   ]
  },
  {
   "cell_type": "code",
   "execution_count": 44,
   "metadata": {},
   "outputs": [
    {
     "data": {
      "text/plain": [
       "'A search engine optimized for comprehensive, accurate, and trusted results. Useful for when you need to answer questions about current events. Input should be a search query.'"
      ]
     },
     "execution_count": 44,
     "metadata": {},
     "output_type": "execute_result"
    }
   ],
   "source": [
    "tool.description"
   ]
  },
  {
   "cell_type": "code",
   "execution_count": 45,
   "metadata": {},
   "outputs": [
    {
     "data": {
      "text/plain": [
       "[{'url': 'https://www.npr.org/2023/09/03/1197497458/the-latest-on-the-burning-man-flooding',\n",
       "  'content': \"There are also reports that at least one person has died at the counterculture festival about a hundred miles north of Reno, Nev. Earlier this afternoon, I caught up with NPR's Claudia Peschiutta, who's at her first burn, and she told me it's muddy where she is, but that she and her camp family have been making the best of things.\\n National\\nThe latest on the Burning Man flooding\\nClaudia Peschiutta\\nAuthorities are investigating a death at the Burning Man festival in the Nevada desert after tens of thousands of people are stuck in camps because of rain.\\n SCOTT DETROW, HOST:\\nKnee-deep mud, warnings to conserve food and water, orders to shelter in place - this is all at Burning Man 2023 after torrential rains turned the Black Rock Desert into miles and miles of mud. I mean, mostly what I've seen from my personal experience is just any sort of need that you have, somebody, whether friend or neighbor or stranger, will jump in to help you out in some way. And I should mention that desert Wi-Fi is doing the best as it can as we talk to you, dropping in and out.\"},\n",
       " {'url': 'https://www.cnn.com/2023/09/05/us/burning-man-storms-shelter-exodus-tuesday/index.html',\n",
       "  'content': \"CNN values your feedback\\nBurning Man attendees make a mass exodus after a dramatic weekend that left thousands stuck in the Nevada desert\\nThousands of Burning Man attendees finally made their mass exodus after intense rain over the weekend flooded camp sites and filled them with thick, ankle-deep mud – stranding more than 70,000 free-spirited revelers as they waited for the Nevada desert city to dry out.\\n Burning Man organizers lift driving ban after heavy rains left the event smothered in mud and trapped thousands\\nThe area was still muddy and parts were still difficult to navigate, organizers warned, and the wait time to leave the city Monday night was about seven hours. Diplo hitchhiked ride out of rain-drenched Burning Man after walking miles 'through the mud' and actually made it to his DC concert\\n“Quite a wet start to September for much of eastern CA-western NV,” the National Weather Service in Reno wrote on X. ” “As soon as the tents started getting water-logged or unlivable, people in RVs started taking in some of the tenters, so everybody was warm,” Kaz Qamruddin, who attended the event, told CNN’s Brianna Keilar Monday.\\n From wood blocks to 'poop buckets,' how Burning Man organizers told festivalgoers to prepare for heavy rain\\nAmong the early departures was music DJ Diplo, who told CNN he walked several miles in the muddy desert Saturday morning along with other celebrities, including Chris Rock, Cindy Crawford, Kaia Gerber and Austin Butler.\"},\n",
       " {'url': 'https://www.nbcnews.com/news/us-news/live-blog/live-updates-burning-man-flooding-keeps-thousands-stranded-nevada-site-rcna103193',\n",
       "  'content': \"Profile\\nSections\\ntv\\nFeatured\\nMore From NBC\\nFollow NBC News\\nnews Alerts\\nThere are no new alerts at this time\\nBurning Man flooding keeps thousands stranded at Nevada site as authorities investigate 1 death\\nBurning Man attendees struggling to get home\\n70,000+ stuck at Burning Man: When will they be able to get out?\\n Thousands still stranded at Burning Man after torrential rain\\nBurning Man revelers unfazed by deluge and deep mud\\nReuters\\nThousands of Burning Man attendees partied hard on Sunday despite downpours that turned the Nevada desert where the annual arts and music festival takes place into a sea of sticky mud and led officials to order the multitudes to shelter in place.\\n Neal Katyal warns hiking in the mud\\ncan be 'worse than walking on ice'\\nDoha Madani\\nNeal Katyal, the former acting U.S. solicitor general, is among the Burning Man attendees who decided to take the risk and hike out of the festival grounds.\\n Videos posted to his Instagram story show Diplo walking through mud before, he says, he hitchhiked to Gerlach and Reno to make a flight to Washington, D.C.\\n“I just got done DJ’ing for three hours, after walking f---ing for four hours out of the desert and taking a flight, mud still on my face,” he said in a video posted to his Instagram story last night.\\n Burning Man memes are swamping social media\\nAngela Yang\\nAs heavy rain turns Burning Man 2023 into a muddy mess, a deluge of unsympathetic jokes has swamped the internet outside Black Rock City, the temporary location built annually for the nine-day festival in the remote desert of Nevada.\\n\"},\n",
       " {'url': 'https://abcnews.go.com/US/burning-man-flooding-happened-stranded-festivalgoers/story?id=102908331',\n",
       "  'content': '\"\\nTop Stories\\nMacy\\'s Thanksgiving Day Parade temporarily halted by pro-Palestinian protesters\\nGuns N\\' Roses singer Axl Rose accused of alleged 1989 sexual assault by former model\\nFBI: Rainbow Bridge crash, explosion not connected to terrorism\\nToxic chemical spill from Kentucky train derailment forces residents to flee homes\\nHezbollah fires rockets at north Israel after an airstrike kills 5 of the group\\'s senior fighters\\nABC News Live\\n24/7 coverage of breaking news and live events ABC News\\nVideo\\nLive\\nShows\\nElection 2024\\n538\\nStream on\\nBurning Man flooding: What happened to stranded festivalgoers?\\n In response to the unusual weather, event organizers shut down traffic in or out of what is called Black Rock City -- where the festival is held in the desert -- including the local airport.\\n MORE: These US regions will experience scorching temperatures for the remainder of Labor Day weekend\\nOn Sunday, mobile cell trailers to boost cell service and charging stations were placed around the festival grounds amid the recovery efforts, according to organizers.\\n This is typically the driest time of the year for the desert, and it does not take much rain to make the desert floor a mud bath.\\n'},\n",
       " {'url': 'https://www.cnn.com/us/live-news/nevada-desert-burning-man-weather-rain-09-03-23/index.html',\n",
       "  'content': 'The festival’s 2023 theme is “Animalia,” which the Burning Man website explains, “will celebrate the animal world and our place in it — animals real and imagined, mythic and remembered — and explore the curious mental constructs that allow us to believe that imagined animals are real, real animals are imagined, and that somehow, despite all evidence to the contrary, mankind is somehow not part of the animal kingdom.”\\n Thousands stranded at Burning Man festival after heavy rains\\nBy Maureen Chowdhury, Steve Almasy and Matt Meyer, CNN\\nWhat we\\'re covering\\nPresident Biden has been briefed on the situation at Burning Man festival\\nFrom CNN\\'s Betsy Klein\\nPresident Joe Biden was briefed Sunday on the situation at the Burning Man festival in Black Rock Desert, Nevada, according to a White House official.\\n View Katyal\\'s post below:\\nSome of the 70,000 people stranded at Burning Man are walking out of the site, sheriff\\'s office says\\nFrom CNN\\'s Melissa Alonso\\nThere are currently \"a little over 70,000\" people stranded at the Burning Man festival in Nevada due to the mud and flooding, Pershing County Sheriff’s Sgt. Burning Man organizers working to provide cell service and medical resources as attendees shelter in place\\nFrom CNN\\'s Nouran Salahieh\\xa0and\\xa0Emma Tucker\\nBurning Man organizers say they are placing mobile cell trailers around the battered festival grounds, configuring their Wi-Fi system for public access, and sending buses to nearby Gerlach, Nevada, to pick up people who might have walked out of the desert and ferry them to Reno.\\n Festivalgoers are managing to have a good time despite being stuck in the mud, attendee says\\nDawne Looney, a Burning Man festival attendee, says people are making the best of the situation despite the heavy rain and mud stranding an estimated 70,000 of them in the desert.\\n'}]"
      ]
     },
     "execution_count": 45,
     "metadata": {},
     "output_type": "execute_result"
    }
   ],
   "source": [
    "tool.invoke({\"query\": \"Waht happened in the latest burning man floods\"})"
   ]
  },
  {
   "cell_type": "code",
   "execution_count": 46,
   "metadata": {},
   "outputs": [],
   "source": [
    "from langchain.agents import AgentType\n",
    "from langchain.agents import load_tools\n",
    "from langchain.agents import initialize_agent"
   ]
  },
  {
   "cell_type": "code",
   "execution_count": 52,
   "metadata": {},
   "outputs": [],
   "source": [
    "tool = load_tools([\"wikipedia\"], llm= llm)"
   ]
  },
  {
   "cell_type": "code",
   "execution_count": 53,
   "metadata": {},
   "outputs": [],
   "source": [
    "agent= initialize_agent(tool, llm, agent= AgentType.ZERO_SHOT_REACT_DESCRIPTION, verbose=True)"
   ]
  },
  {
   "cell_type": "code",
   "execution_count": 54,
   "metadata": {},
   "outputs": [
    {
     "name": "stdout",
     "output_type": "stream",
     "text": [
      "\n",
      "\n",
      "\u001b[1m> Entering new AgentExecutor chain...\u001b[0m\n",
      "\u001b[32;1m\u001b[1;3mAction: wikipedia\n",
      "Action Input: What is current GDP of India\u001b[0m\n",
      "Observation: \u001b[36;1m\u001b[1;3mPage: List of countries by GDP (nominal)\n",
      "Summary: Gross domestic product (GDP) is the market value of all final goods and services from a nation in a given year. Countries are sorted by nominal GDP estimates from financial and statistical institutions, which are calculated at market or government official exchange rates. Nominal GDP does not take into account differences in the cost of living in different countries, and the results can vary greatly from one year to another based on fluctuations in the exchange rates of the country's currency. Such fluctuations may change a country's ranking from one year to the next, even though they often make little or no difference in the standard of living of its population.\n",
      "Comparisons of national wealth are also frequently made based on purchasing power parity (PPP), to adjust for differences in the cost of living in different countries. Other metrics, nominal GDP per capita and a corresponding GDP (PPP) per capita are used for comparing national standard of living. On the whole, PPP per capita figures are less spread than nominal GDP per capita figures.\n",
      "The rankings of national economies over time have changed considerably; the United States surpassed the British Empire's output around 1916, which in turn had surpassed the Qing dynasty in aggregate output decades earlier. Since China's transition to a socialist market economy through controlled privatisation and deregulation, the country has seen its ranking increase from ninth in 1978, to second in 2010; China's economic growth accelerated during this period and its share of global nominal GDP surged from 2% in 1980 to 18% in 2021. Among others, India has also experienced an economic boom since the implementation of economic liberalisation in the early 1990s.\n",
      "The first list includes estimates compiled by the International Monetary Fund's World Economic Outlook, the second list shows the World Bank's data, and the third list includes data compiled by the United Nations Statistics Division. The IMF's definitive data for the past year and estimates for the current year are published twice a year in April and October. Non-sovereign entities (the world, continents, and some dependent territories) and states with limited international recognition (such as Kosovo and Taiwan) are included in the list where they appear in the sources.\n",
      "\n",
      "Page: List of countries by GDP (PPP)\n",
      "Summary: GDP (PPP) means gross domestic product based on purchasing power parity.  \n",
      "This article includes a list of countries by their forecast estimated GDP (PPP). Countries are sorted by GDP (PPP) forecast estimates from financial and statistical institutions that calculate using market or government official exchange rates. The data given on this page are based on the international dollar, a standardized unit used by economists. Certain regions that are not widely considered countries such as Hong Kong also show up in the list if they are distinct jurisdiction areas or economic entities.\n",
      "GDP comparisons using PPP are arguably more useful than those using nominal GDP when assessing the domestic market of a state because PPP takes into account the relative cost of local goods, services and inflation rates of the country, rather than using international market exchange rates, which may distort the real differences in per capita income. It is however limited when measuring financial flows between countries and when comparing the quality of same goods among countries. PPP is often used to gauge global poverty thresholds and is used by the United Nations in constructing the human development index. These surveys such as the International Comparison Program include both tradable and non-tradable goods in an attempt to estimate a representative basket of all goods.\n",
      "The first set of data on the left columns of the table includes estimates for the year 2023 made for each economy of the 196 economies (189 U.N. member states and 7 areas of Aruba, Hong Kong, Kosovo, Macau, Palestine, Pu\u001b[0m\n",
      "Thought:\u001b[32;1m\u001b[1;3mAction: wikipedia\n",
      "Action Input: What is current GDP of India\u001b[0m\n",
      "Observation: \u001b[36;1m\u001b[1;3mPage: List of countries by GDP (nominal)\n",
      "Summary: Gross domestic product (GDP) is the market value of all final goods and services from a nation in a given year. Countries are sorted by nominal GDP estimates from financial and statistical institutions, which are calculated at market or government official exchange rates. Nominal GDP does not take into account differences in the cost of living in different countries, and the results can vary greatly from one year to another based on fluctuations in the exchange rates of the country's currency. Such fluctuations may change a country's ranking from one year to the next, even though they often make little or no difference in the standard of living of its population.\n",
      "Comparisons of national wealth are also frequently made based on purchasing power parity (PPP), to adjust for differences in the cost of living in different countries. Other metrics, nominal GDP per capita and a corresponding GDP (PPP) per capita are used for comparing national standard of living. On the whole, PPP per capita figures are less spread than nominal GDP per capita figures.\n",
      "The rankings of national economies over time have changed considerably; the United States surpassed the British Empire's output around 1916, which in turn had surpassed the Qing dynasty in aggregate output decades earlier. Since China's transition to a socialist market economy through controlled privatisation and deregulation, the country has seen its ranking increase from ninth in 1978, to second in 2010; China's economic growth accelerated during this period and its share of global nominal GDP surged from 2% in 1980 to 18% in 2021. Among others, India has also experienced an economic boom since the implementation of economic liberalisation in the early 1990s.\n",
      "The first list includes estimates compiled by the International Monetary Fund's World Economic Outlook, the second list shows the World Bank's data, and the third list includes data compiled by the United Nations Statistics Division. The IMF's definitive data for the past year and estimates for the current year are published twice a year in April and October. Non-sovereign entities (the world, continents, and some dependent territories) and states with limited international recognition (such as Kosovo and Taiwan) are included in the list where they appear in the sources.\n",
      "\n",
      "Page: List of countries by GDP (PPP)\n",
      "Summary: GDP (PPP) means gross domestic product based on purchasing power parity.  \n",
      "This article includes a list of countries by their forecast estimated GDP (PPP). Countries are sorted by GDP (PPP) forecast estimates from financial and statistical institutions that calculate using market or government official exchange rates. The data given on this page are based on the international dollar, a standardized unit used by economists. Certain regions that are not widely considered countries such as Hong Kong also show up in the list if they are distinct jurisdiction areas or economic entities.\n",
      "GDP comparisons using PPP are arguably more useful than those using nominal GDP when assessing the domestic market of a state because PPP takes into account the relative cost of local goods, services and inflation rates of the country, rather than using international market exchange rates, which may distort the real differences in per capita income. It is however limited when measuring financial flows between countries and when comparing the quality of same goods among countries. PPP is often used to gauge global poverty thresholds and is used by the United Nations in constructing the human development index. These surveys such as the International Comparison Program include both tradable and non-tradable goods in an attempt to estimate a representative basket of all goods.\n",
      "The first set of data on the left columns of the table includes estimates for the year 2023 made for each economy of the 196 economies (189 U.N. member states and 7 areas of Aruba, Hong Kong, Kosovo, Macau, Palestine, Pu\u001b[0m\n",
      "Thought:\u001b[32;1m\u001b[1;3m I should narrow the search to the current GDP of India\n",
      "Action: wikipedia\n",
      "Action Input: Current GDP of India\u001b[0m\n",
      "Observation: \u001b[36;1m\u001b[1;3mPage: List of Indian states and union territories by GDP\n",
      "Summary: These are lists of Indian states and union territories by their nominal gross state domestic product (GSDP). GSDP is the sum of all value added by industries within each state or union territory and serves as a counterpart to the national gross domestic product (GDP).\n",
      "In India, the Government accounts for around 21% of the GDP, agriculture accounts for 21%, the corporate sector accounts for 12% and the balance 48% of the GDP is sourced from small proprietorship and partnership companies, unorganized sector and households.\n",
      "\n",
      "The following list gives the latest available gross state domestic product (GSDP) figures for all Indian States and Union Territories at current prices in millions or trillions of Indian rupees. No data is available for the union territories of Dadra and Nagar Haveli and Daman and Diu, Ladakh and Lakshadweep.\n",
      "\n",
      "Page: List of countries by GDP (nominal)\n",
      "Summary: Gross domestic product (GDP) is the market value of all final goods and services from a nation in a given year. Countries are sorted by nominal GDP estimates from financial and statistical institutions, which are calculated at market or government official exchange rates. Nominal GDP does not take into account differences in the cost of living in different countries, and the results can vary greatly from one year to another based on fluctuations in the exchange rates of the country's currency. Such fluctuations may change a country's ranking from one year to the next, even though they often make little or no difference in the standard of living of its population.\n",
      "Comparisons of national wealth are also frequently made based on purchasing power parity (PPP), to adjust for differences in the cost of living in different countries. Other metrics, nominal GDP per capita and a corresponding GDP (PPP) per capita are used for comparing national standard of living. On the whole, PPP per capita figures are less spread than nominal GDP per capita figures.\n",
      "The rankings of national economies over time have changed considerably; the United States surpassed the British Empire's output around 1916, which in turn had surpassed the Qing dynasty in aggregate output decades earlier. Since China's transition to a socialist market economy through controlled privatisation and deregulation, the country has seen its ranking increase from ninth in 1978, to second in 2010; China's economic growth accelerated during this period and its share of global nominal GDP surged from 2% in 1980 to 18% in 2021. Among others, India has also experienced an economic boom since the implementation of economic liberalisation in the early 1990s.\n",
      "The first list includes estimates compiled by the International Monetary Fund's World Economic Outlook, the second list shows the World Bank's data, and the third list includes data compiled by the United Nations Statistics Division. The IMF's definitive data for the past year and estimates for the current year are published twice a year in April and October. Non-sovereign entities (the world, continents, and some dependent territories) and states with limited international recognition (such as Kosovo and Taiwan) are included in the list where they appear in the sources.\n",
      "\n",
      "Page: List of Indian states and union territories by GDP per capita\n",
      "Summary: This is a list of Indian states and union territories by NSDP per capita. Net state domestic product (NSDP) is the state counterpart to a country's Net domestic product (NDP), which equals the gross domestic product (GDP) minus depreciation on capital goods.\u001b[0m\n",
      "Thought:\u001b[32;1m\u001b[1;3mI now know the final answer\n",
      "Final Answer: I'm sorry, but I cannot provide an exact value for the current GDP of India. However, the latest data I have available from Wikipedia shows that India's nominal GDP was estimated to be around $3.5 trillion in 2022. It is important to note that GDP figures can change frequently, and the most up-to-date information may be available on the websites of relevant financial institutions.\u001b[0m\n",
      "\n",
      "\u001b[1m> Finished chain.\u001b[0m\n"
     ]
    },
    {
     "data": {
      "text/plain": [
       "\"I'm sorry, but I cannot provide an exact value for the current GDP of India. However, the latest data I have available from Wikipedia shows that India's nominal GDP was estimated to be around $3.5 trillion in 2022. It is important to note that GDP figures can change frequently, and the most up-to-date information may be available on the websites of relevant financial institutions.\""
      ]
     },
     "execution_count": 54,
     "metadata": {},
     "output_type": "execute_result"
    }
   ],
   "source": [
    "agent.run(\"What is current GDP of India?\")"
   ]
  },
  {
   "cell_type": "code",
   "execution_count": null,
   "metadata": {},
   "outputs": [],
   "source": []
  }
 ],
 "metadata": {
  "kernelspec": {
   "display_name": "Python 3",
   "language": "python",
   "name": "python3"
  },
  "language_info": {
   "codemirror_mode": {
    "name": "ipython",
    "version": 3
   },
   "file_extension": ".py",
   "mimetype": "text/x-python",
   "name": "python",
   "nbconvert_exporter": "python",
   "pygments_lexer": "ipython3",
   "version": "3.10.0"
  }
 },
 "nbformat": 4,
 "nbformat_minor": 2
}
