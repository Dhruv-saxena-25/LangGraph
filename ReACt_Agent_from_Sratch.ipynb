{
 "cells": [
  {
   "cell_type": "code",
   "execution_count": 1,
   "metadata": {},
   "outputs": [],
   "source": [
    "import os\n",
    "from dotenv import load_dotenv\n",
    "load_dotenv()\n",
    "GOOGLE_API_KEY=os.getenv(\"GOOGLE_API_KEY\")\n",
    "GROQ_API_KEY=os.getenv(\"GROQ_API_KEY\")\n",
    "LANGCHAIN_API_KEY=os.getenv(\"LANGCHAIN_API_KEY\")\n",
    "os.environ[\"GOOGLE_API_KEY\"] = GOOGLE_API_KEY\n",
    "os.environ[\"GROQ_API_KEY\"]= GROQ_API_KEY\n",
    "os.environ[\"LANGCHAIN_API_KEY\"] = LANGCHAIN_API_KEY\n",
    "os.environ[\"LANGCHAIN_TRACING_V2\"] = \"true\"\n",
    "os.environ[\"LANGCHAIN_ENDPOINT\"] = \"https://api.smith.langchain.com\""
   ]
  },
  {
   "cell_type": "code",
   "execution_count": 2,
   "metadata": {},
   "outputs": [
    {
     "name": "stderr",
     "output_type": "stream",
     "text": [
      "c:\\Users\\Dhruv Saxena\\Desktop\\Dhruv\\GenerativeAI\\LangGraph\\venv\\lib\\site-packages\\sentence_transformers\\cross_encoder\\CrossEncoder.py:13: TqdmWarning: IProgress not found. Please update jupyter and ipywidgets. See https://ipywidgets.readthedocs.io/en/stable/user_install.html\n",
      "  from tqdm.autonotebook import tqdm, trange\n",
      "c:\\Users\\Dhruv Saxena\\Desktop\\Dhruv\\GenerativeAI\\LangGraph\\venv\\lib\\site-packages\\transformers\\tokenization_utils_base.py:1617: FutureWarning: `clean_up_tokenization_spaces` was not set. It will be set to `True` by default. This behavior will be deprecated in transformers v4.45, and will be then set to `False` by default. For more details check this issue: https://github.com/huggingface/transformers/issues/31884\n",
      "  warnings.warn(\n"
     ]
    }
   ],
   "source": [
    "from langchain_huggingface import HuggingFaceEmbeddings\n",
    "embeddings = HuggingFaceEmbeddings(model_name= \"all-MiniLM-L6-v2\")\n",
    "from langchain_groq import ChatGroq\n",
    "llm = ChatGroq(model_name= \"Gemma2-9b-It\")"
   ]
  },
  {
   "cell_type": "code",
   "execution_count": 4,
   "metadata": {},
   "outputs": [],
   "source": [
    "message = [{\"role\": \"system\", \"content\": \"Uou are a helpful assistant\"},\n",
    "           {\"role\": \"user\", \"content\": \"Hi how are you\"}]"
   ]
  },
  {
   "cell_type": "code",
   "execution_count": 5,
   "metadata": {},
   "outputs": [
    {
     "name": "stdout",
     "output_type": "stream",
     "text": [
      "As an AI, I don't have feelings, but I'm here and ready to help! How can I assist you today? 😊  \n",
      "\n",
      "\n"
     ]
    }
   ],
   "source": [
    "result = llm.invoke(message)\n",
    "print(result.content)"
   ]
  },
  {
   "cell_type": "markdown",
   "metadata": {},
   "source": [
    "## Create a assistant"
   ]
  },
  {
   "cell_type": "markdown",
   "metadata": {},
   "source": [
    "### ReACt Agent:\n",
    "\n",
    "- Start ---> Thought ---> Action (LLM, Tool) ---> Observation ---> Final Output\n",
    "- This thing work inside the loop max_turns"
   ]
  },
  {
   "cell_type": "code",
   "execution_count": 24,
   "metadata": {},
   "outputs": [],
   "source": [
    "class Chatbot():\n",
    "    def __init__(self, system= \"\"):\n",
    "        self.system = system\n",
    "        self.message = []\n",
    "        if self.system:\n",
    "            self.message.append({\"role\": \"system\", \"content\": system})\n",
    "    def __call__(self, message):\n",
    "        self.message.append({\"role\": \"user\", \"content\": message})\n",
    "        result = self.execute()\n",
    "        self.message.append({\"role\": \"assistant\",  \"content\": result})\n",
    "        return result\n",
    "    def execute(self):\n",
    "        llm = ChatGroq(model_name = \"Gemma2-9b-It\")\n",
    "        result = llm.invoke(self.message)\n",
    "        return result.content"
   ]
  },
  {
   "cell_type": "code",
   "execution_count": 25,
   "metadata": {},
   "outputs": [],
   "source": [
    "bot = Chatbot(system= \"You are a helpfull assitant\")"
   ]
  },
  {
   "cell_type": "code",
   "execution_count": 26,
   "metadata": {},
   "outputs": [
    {
     "data": {
      "text/plain": [
       "\"I'm doing well, thank you! As an AI, I don't have feelings, but I'm ready to assist you with any questions or tasks you may have. 😊\\n\\nHow are you doing today?  \\n\\n\""
      ]
     },
     "execution_count": 26,
     "metadata": {},
     "output_type": "execute_result"
    }
   ],
   "source": [
    "bot(\"Hi how are you?\")"
   ]
  },
  {
   "cell_type": "code",
   "execution_count": 28,
   "metadata": {},
   "outputs": [
    {
     "data": {
      "text/plain": [
       "[{'role': 'system', 'content': 'You are a helpfull assitant'},\n",
       " {'role': 'user', 'content': 'Hi how are you?'},\n",
       " {'role': 'assistant',\n",
       "  'content': \"I'm doing well, thank you! As an AI, I don't have feelings, but I'm ready to assist you with any questions or tasks you may have. 😊\\n\\nHow are you doing today?  \\n\\n\"}]"
      ]
     },
     "execution_count": 28,
     "metadata": {},
     "output_type": "execute_result"
    }
   ],
   "source": [
    "bot.message"
   ]
  },
  {
   "cell_type": "markdown",
   "metadata": {},
   "source": [
    "## Defining a prompt"
   ]
  },
  {
   "cell_type": "code",
   "execution_count": 29,
   "metadata": {},
   "outputs": [],
   "source": [
    "prompt = \"\"\"\n",
    "You run in a loop of Thought, Action, PAUSE, Observation.\n",
    "At the end of the loop you output an Answer.\n",
    "Use Thought to describe your thoughts about the question you have been asked.\n",
    "Use Action to run one of the actions available to you - then return PAUSE.\n",
    "Observation will be the result of running those actions.\n",
    "\n",
    "Your available actions are:\n",
    "calculate:\n",
    "e.g. calculate: 4 * 7 / 3\n",
    "Runs a calculation and returns the number - uses Python so be sure to use floating point\n",
    "syntax if necessary\n",
    "\n",
    "wikipedia:\n",
    "e.g. wikipedia: Django\n",
    "Returns a summary from searching Wikipedia\n",
    "\n",
    "simon_blog_search:\n",
    "e.g. simon_blog_search: Django\n",
    "Search Simon's blog for that term\n",
    "\n",
    "Example session:\n",
    "Question: What is the capital of France?\n",
    "Thought: I should look up France on Wikipedia\n",
    "Action: wikipedia: France\n",
    "PAUSE\n",
    "\n",
    "You will be called again with this:\n",
    "Observation: France is a country. The capital is Paris.\n",
    "\n",
    "You then output:\n",
    "Answer: The capital of France is Paris\n",
    "\"\"\".strip()"
   ]
  },
  {
   "cell_type": "markdown",
   "metadata": {},
   "source": [
    "## Define the query function"
   ]
  },
  {
   "cell_type": "code",
   "execution_count": 7,
   "metadata": {},
   "outputs": [],
   "source": [
    "import re\n",
    "\n",
    "action_re = re.compile('^Action: (\\w+): (.*)')"
   ]
  },
  {
   "cell_type": "code",
   "execution_count": 33,
   "metadata": {},
   "outputs": [],
   "source": [
    "import httpx\n",
    "def wikipedia(q):\n",
    "    response = httpx.get(\"https://en.wikipedia.org/w/api.php\", params={\n",
    "        \"action\": \"query\",\n",
    "        \"list\": \"search\",\n",
    "        \"srsearch\": query,\n",
    "        \"format\": \"json\"\n",
    "    })\n",
    "    return response.json()[\"query\"][\"search\"][0][\"snippet\"]"
   ]
  },
  {
   "cell_type": "code",
   "execution_count": 34,
   "metadata": {},
   "outputs": [],
   "source": [
    "def simon_blog_search(q):\n",
    "    response = httpx.get(\"https://datasette.simonwillison.net/simonwillisonblog.json\", params={\n",
    "        \"sql\": \"\"\"\n",
    "        select\n",
    "          blog_entry.title || ': ' || substr(html_strip_tags(blog_entry.body), 0, 1000) as text,\n",
    "          blog_entry.created\n",
    "        from\n",
    "          blog_entry join blog_entry_fts on blog_entry.rowid = blog_entry_fts.rowid\n",
    "        where\n",
    "          blog_entry_fts match escape_fts(:q)\n",
    "        order by\n",
    "          blog_entry_fts.rank\n",
    "        limit\n",
    "          1\n",
    "        \"\"\".strip(),\n",
    "        \"_shape\": \"array\",\n",
    "        \"q\": q,\n",
    "    })\n",
    "    return response.json()[0][\"text\"]"
   ]
  },
  {
   "cell_type": "code",
   "execution_count": 35,
   "metadata": {},
   "outputs": [],
   "source": [
    "def calculate(number):\n",
    "    return eval(number)"
   ]
  },
  {
   "cell_type": "code",
   "execution_count": 37,
   "metadata": {},
   "outputs": [
    {
     "data": {
      "text/plain": [
       "4"
      ]
     },
     "execution_count": 37,
     "metadata": {},
     "output_type": "execute_result"
    }
   ],
   "source": [
    "calculate(\"2+2\")"
   ]
  },
  {
   "cell_type": "code",
   "execution_count": 12,
   "metadata": {},
   "outputs": [],
   "source": [
    "known_actions = {\n",
    "    \"wikipedia\": wikipedia,\n",
    "    \"calculate\": calculate,\n",
    "    \"simon_blog_search\": simon_blog_search\n",
    "}"
   ]
  },
  {
   "cell_type": "code",
   "execution_count": 41,
   "metadata": {},
   "outputs": [],
   "source": [
    "def query(question, max_turns=7):\n",
    "    i = 0\n",
    "    bot = Chatbot(prompt)\n",
    "    next_prompt = question\n",
    "    while i < max_turns:\n",
    "        i += 1\n",
    "        result = bot(next_prompt)\n",
    "        print(result)\n",
    "        actions = [action_re.match(a) for a in result.split('\\n') if action_re.match(a)]\n",
    "        if actions:\n",
    "            action, action_input = actions[0].groups()\n",
    "            if action not in known_actions:\n",
    "                raise Exception(f\"Unknown action: {action}: {action_input}\")\n",
    "            print(\" -- running {} {}\".format(action, action_input))\n",
    "            observation = known_actions[action](action_input)\n",
    "            print(\"Observation:\", observation)\n",
    "            next_prompt = f\"Observation: {observation}\"\n",
    "        else:\n",
    "            return result\n"
   ]
  },
  {
   "cell_type": "code",
   "execution_count": 42,
   "metadata": {},
   "outputs": [
    {
     "name": "stdout",
     "output_type": "stream",
     "text": [
      "Thought: I need to know if Simon has been to Madagascar.  I can search his blog.\n",
      "\n",
      "Action: simon_blog_search: Madagascar\n",
      "PAUSE \n",
      "\n",
      " -- running simon_blog_search Madagascar\n",
      "Observation: None\n",
      "Thought: Simon hasn't written about Madagascar on his blog. \n",
      "\n",
      "Action: wikipedia: Madagascar\n",
      "PAUSE \n",
      "\n",
      " -- running wikipedia Madagascar\n",
      "Observation: None\n",
      "Thought: I'm not sure how to answer that.  I don't have personal experience or access to information beyond my training data. \n",
      "\n",
      "Answer: I don't know if Simon has been to Madagascar. I can't access real-time information or personal details. \n",
      "\n",
      "Thought: I'm not sure how to answer that.  I don't have personal experience or access to information beyond my training data. \n",
      "\n",
      "Answer: I don't know if Simon has been to Madagascar. I can't access real-time information or personal details. \n",
      "\n"
     ]
    }
   ],
   "source": [
    "print(query(\"Has Simon been to Madagascar?\"))"
   ]
  },
  {
   "cell_type": "code",
   "execution_count": 43,
   "metadata": {},
   "outputs": [
    {
     "name": "stdout",
     "output_type": "stream",
     "text": [
      "Thought: I need to calculate Fifteen * twenty five  \n",
      "\n",
      "Action: calculate: 15 * 25 \n",
      "PAUSE \n",
      "\n",
      " -- running calculate 15 * 25 \n",
      "Observation: 375\n",
      "Answer: 375\n",
      "Answer: 375\n"
     ]
    }
   ],
   "source": [
    "print(query(\"Fifteen * twenty five\"))"
   ]
  },
  {
   "cell_type": "code",
   "execution_count": 44,
   "metadata": {},
   "outputs": [
    {
     "name": "stdout",
     "output_type": "stream",
     "text": [
      "Thought: I need to find the capital of India. \n",
      "\n",
      "Action: wikipedia: New Delhi \n",
      "PAUSE \n",
      "\n",
      " -- running wikipedia New Delhi \n",
      "Observation: None\n",
      "Thought:  Maybe I should try a different search term. \n",
      "\n",
      "Action: wikipedia: India\n",
      "PAUSE \n",
      "\n",
      " -- running wikipedia India\n",
      "Observation: None\n",
      "Thought: Hmm, it seems like I'm having trouble getting information from Wikipedia.  Let me try Simon's blog.\n",
      "\n",
      "Action: simon_blog_search: India\n",
      "PAUSE \n",
      "\n",
      " -- running simon_blog_search India\n",
      "Observation: None\n",
      "Thought: It looks like I'm unable to access information from either Wikipedia or Simon's blog. I'll have to try a different approach. \n",
      "\n",
      "Action: calculate: 1 + 1 \n",
      "PAUSE \n",
      "\n",
      "\n",
      "\n",
      "\n",
      "\n",
      " -- running calculate 1 + 1 \n",
      "Observation: 2\n",
      "Thought: Even though I can do basic calculations, I still can't find the capital of India.  I need more reliable sources of information.\n",
      "\n",
      "Action: wikipedia: India\n",
      "PAUSE \n",
      "\n",
      " -- running wikipedia India\n",
      "Observation: None\n",
      "Thought: I'm still not able to access information from Wikipedia.  It seems like I'm encountering a significant problem.\n",
      "\n",
      "Action:  calculate: 2 * 2\n",
      "PAUSE \n",
      "\n",
      "Thought: I'm still not able to access information from Wikipedia.  It seems like I'm encountering a significant problem.\n",
      "\n",
      "Action:  calculate: 2 * 2\n",
      "PAUSE \n",
      "\n"
     ]
    }
   ],
   "source": [
    "print(query(\"where is New Delhi?\"))"
   ]
  },
  {
   "cell_type": "code",
   "execution_count": 45,
   "metadata": {},
   "outputs": [
    {
     "name": "stdout",
     "output_type": "stream",
     "text": [
      "Thought: I wonder what NASA does.  \n",
      "\n",
      "Action: wikipedia: NASA \n",
      "PAUSE \n",
      "\n",
      " -- running wikipedia NASA \n",
      "Observation: None\n",
      "Thought:  That's strange, wikipedia: NASA didn't give me any results. Let me try searching Simon's blog.\n",
      "\n",
      "Action: simon_blog_search: NASA \n",
      "PAUSE \n",
      "\n",
      " -- running simon_blog_search NASA \n",
      "Observation: None\n",
      "Thought: Hmm, it seems like I can't find any information about NASA from either Wikipedia or Simon's blog. I'll have to assume that NASA is not a topic covered in those sources. \n",
      "\n",
      "Answer: I'm unable to find information about NASA from my available sources.  Would you like me to try a different question? \n",
      "\n",
      "Thought: Hmm, it seems like I can't find any information about NASA from either Wikipedia or Simon's blog. I'll have to assume that NASA is not a topic covered in those sources. \n",
      "\n",
      "Answer: I'm unable to find information about NASA from my available sources.  Would you like me to try a different question? \n",
      "\n"
     ]
    }
   ],
   "source": [
    "print(query(\"what nasa does?\"))"
   ]
  },
  {
   "cell_type": "code",
   "execution_count": 46,
   "metadata": {},
   "outputs": [
    {
     "data": {
      "text/plain": [
       "\"I'm doing well, thank you!  \\n\\nIt seems like you're asking me how I am a few times.  Is there anything else I can help you with? 😊  \\n\""
      ]
     },
     "execution_count": 46,
     "metadata": {},
     "output_type": "execute_result"
    }
   ],
   "source": [
    "bot(\"Hello, how are you?\")"
   ]
  },
  {
   "cell_type": "code",
   "execution_count": null,
   "metadata": {},
   "outputs": [],
   "source": []
  }
 ],
 "metadata": {
  "kernelspec": {
   "display_name": "Python 3",
   "language": "python",
   "name": "python3"
  },
  "language_info": {
   "codemirror_mode": {
    "name": "ipython",
    "version": 3
   },
   "file_extension": ".py",
   "mimetype": "text/x-python",
   "name": "python",
   "nbconvert_exporter": "python",
   "pygments_lexer": "ipython3",
   "version": "3.10.0"
  }
 },
 "nbformat": 4,
 "nbformat_minor": 2
}
